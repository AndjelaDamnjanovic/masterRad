{
 "cells": [
  {
   "cell_type": "code",
   "execution_count": 1,
   "id": "b9fa4318-f1e3-411f-9a3f-c12c51ecaba8",
   "metadata": {},
   "outputs": [],
   "source": [
    "import os\n",
    "import csv"
   ]
  },
  {
   "cell_type": "code",
   "execution_count": 2,
   "id": "e1ca406e-abfb-4fc1-9e2c-8678e74892ed",
   "metadata": {},
   "outputs": [],
   "source": [
    "def makeTypeRepeatfile(filename):\n",
    "    headers = [\"covidType\", \"repeats\"]\n",
    "    with open(filename, mode=\"a\", newline=\"\") as file:\n",
    "        writer = csv.writer(file)\n",
    "        writer.writerow(headers)"
   ]
  },
  {
   "cell_type": "code",
   "execution_count": 3,
   "id": "50dad95c-7f7e-4b5c-817f-481d8a220e9b",
   "metadata": {},
   "outputs": [],
   "source": [
    "def extractDirectRepeats(inPath, outPath = \"\"):\n",
    "    with open(inPath, \"r\") as fIn, open(outPath, \"a\") as fOut:\n",
    "        for line in fIn:\n",
    "            data = [[inPath.split(\"/\")[3].split(\".\")[0], line.split(\",\")[6]]]\n",
    "            writer = csv.writer(fOut)\n",
    "            writer.writerows(data)"
   ]
  },
  {
   "cell_type": "code",
   "execution_count": 4,
   "id": "6713616a-4951-496b-9564-990c65e3f131",
   "metadata": {},
   "outputs": [],
   "source": [
    "def createFolder(folder):\n",
    "    if not os.path.exists(folder):\n",
    "        os.makedirs(folder)\n",
    "        print(f\"Folder '{folder}' created.\")\n",
    "    else:\n",
    "        print(f\"Folder '{folder}' already exists.\")"
   ]
  },
  {
   "cell_type": "code",
   "execution_count": 5,
   "id": "2de8d625-850c-4f0e-b514-e2fb8d340824",
   "metadata": {},
   "outputs": [
    {
     "name": "stdout",
     "output_type": "stream",
     "text": [
      "Folder '../proba2NoDuplicatesNucl' created.\n",
      "Folder '../proba2NoDuplicatesNucl/DC' created.\n",
      "Folder '../proba2NoDuplicatesNucl/DN' created.\n",
      "Folder '../proba2NoDuplicatesNucl/IC' created.\n",
      "Folder '../proba2NoDuplicatesNucl/IN' created.\n"
     ]
    }
   ],
   "source": [
    "createFolder(\"../proba2NoDuplicatesNucl\")\n",
    "createFolder(\"../proba2NoDuplicatesNucl/DC\")\n",
    "createFolder(\"../proba2NoDuplicatesNucl/DN\")\n",
    "createFolder(\"../proba2NoDuplicatesNucl/IC\")\n",
    "createFolder(\"../proba2NoDuplicatesNucl/IN\")"
   ]
  },
  {
   "cell_type": "code",
   "execution_count": 6,
   "id": "7cfb8762-7b9d-44a1-9c0b-ea21b4a6202b",
   "metadata": {},
   "outputs": [],
   "source": [
    "baseFolder = \"../trainSetRepeatsNoDuplicatesNucl/DC\"\n",
    "for file in os.listdir(baseFolder):\n",
    "    path = baseFolder + \"/\" + file\n",
    "        #print(path)\n",
    "        \n",
    "    if file.startswith(\".\"):\n",
    "        continue\n",
    "\n",
    "    if file.endswith(\".fasta.load\"):\n",
    "        out = path.replace(\"trainSetRepeats\", \"proba2\").replace(\".fasta.load\", \".csv\")\n",
    "        makeTypeRepeatfile(out)\n",
    "        extractDirectRepeats(path, out)"
   ]
  },
  {
   "cell_type": "code",
   "execution_count": 7,
   "id": "592c5aa0-4c7d-48ec-8265-c24b788499c2",
   "metadata": {},
   "outputs": [],
   "source": [
    "baseFolder = \"../trainSetRepeatsNoDuplicatesNucl/DN\"\n",
    "for file in os.listdir(baseFolder):\n",
    "    path = baseFolder + \"/\" + file\n",
    "        #print(path)\n",
    "        \n",
    "    if file.startswith(\".\"):\n",
    "        continue\n",
    "\n",
    "    if file.endswith(\".fasta.load\"):\n",
    "        out = path.replace(\"trainSetRepeats\", \"proba2\").replace(\".fasta.load\", \".csv\")\n",
    "        makeTypeRepeatfile(out)\n",
    "        extractDirectRepeats(path, out)"
   ]
  },
  {
   "cell_type": "code",
   "execution_count": 8,
   "id": "5fd8f429-ed70-4ec8-91d7-ec5b67f0b55a",
   "metadata": {},
   "outputs": [],
   "source": [
    "baseFolder = \"../trainSetRepeatsNoDuplicatesNucl/IC\"\n",
    "for file in os.listdir(baseFolder):\n",
    "    path = baseFolder + \"/\" + file\n",
    "        #print(path)\n",
    "        \n",
    "    if file.startswith(\".\"):\n",
    "        continue\n",
    "\n",
    "    if file.endswith(\".fasta.load\"):\n",
    "        out = path.replace(\"trainSetRepeats\", \"proba2\").replace(\".fasta.load\", \".csv\")\n",
    "        makeTypeRepeatfile(out)\n",
    "        extractDirectRepeats(path, out)"
   ]
  },
  {
   "cell_type": "code",
   "execution_count": 9,
   "id": "53cc9384-bae2-42cd-a15b-97ce0473faca",
   "metadata": {},
   "outputs": [],
   "source": [
    "baseFolder = \"../trainSetRepeatsNoDuplicatesNucl/IN\"\n",
    "for file in os.listdir(baseFolder):\n",
    "    path = baseFolder + \"/\" + file\n",
    "        #print(path)\n",
    "        \n",
    "    if file.startswith(\".\"):\n",
    "        continue\n",
    "\n",
    "    if file.endswith(\".fasta.load\"):\n",
    "        out = path.replace(\"trainSetRepeats\", \"proba2\").replace(\".fasta.load\", \".csv\")\n",
    "        makeTypeRepeatfile(out)\n",
    "        extractDirectRepeats(path, out)"
   ]
  },
  {
   "cell_type": "code",
   "execution_count": null,
   "id": "f94cd838-4cee-4431-94a1-cb21f4776b3d",
   "metadata": {},
   "outputs": [],
   "source": []
  }
 ],
 "metadata": {
  "kernelspec": {
   "display_name": "Python 3 (ipykernel)",
   "language": "python",
   "name": "python3"
  },
  "language_info": {
   "codemirror_mode": {
    "name": "ipython",
    "version": 3
   },
   "file_extension": ".py",
   "mimetype": "text/x-python",
   "name": "python",
   "nbconvert_exporter": "python",
   "pygments_lexer": "ipython3",
   "version": "3.10.12"
  }
 },
 "nbformat": 4,
 "nbformat_minor": 5
}
