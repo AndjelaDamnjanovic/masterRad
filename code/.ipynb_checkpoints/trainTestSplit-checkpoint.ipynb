{
 "cells": [
  {
   "cell_type": "code",
   "execution_count": 1,
   "id": "3a66cd89-1154-4a9b-b6fa-9034abaf07ec",
   "metadata": {},
   "outputs": [],
   "source": [
    "import os\n",
    "import csv\n",
    "\n",
    "import sys\n",
    "import random\n",
    "import numpy as np\n",
    "\n",
    "from Bio.Seq import Seq\n",
    "from Bio.SeqRecord import SeqRecord\n",
    "from Bio import SeqIO"
   ]
  },
  {
   "cell_type": "code",
   "execution_count": 2,
   "id": "308791be-c3b5-4438-a3e1-a74546e59964",
   "metadata": {},
   "outputs": [],
   "source": [
    "def createFolder(folder):\n",
    "    if not os.path.exists(folder):\n",
    "        os.makedirs(folder)\n",
    "        print(f\"Folder '{folder}' created.\")\n",
    "    else:\n",
    "        print(f\"Folder '{folder}' already exists.\")"
   ]
  },
  {
   "cell_type": "code",
   "execution_count": 3,
   "id": "dd1af553-439a-496d-b657-cf2c999024e8",
   "metadata": {},
   "outputs": [
    {
     "name": "stdout",
     "output_type": "stream",
     "text": [
      "Folder '../trainSet/' created.\n"
     ]
    }
   ],
   "source": [
    "createFolder(\"../trainSet/\")"
   ]
  },
  {
   "cell_type": "code",
   "execution_count": 4,
   "id": "5b22f01f-bd82-4600-8827-c6bc88144ed7",
   "metadata": {},
   "outputs": [
    {
     "name": "stdout",
     "output_type": "stream",
     "text": [
      "Folder '../testSet/' created.\n"
     ]
    }
   ],
   "source": [
    "createFolder(\"../testSet/\")"
   ]
  },
  {
   "cell_type": "code",
   "execution_count": 5,
   "id": "c62ac940-4f4e-4aba-8d2b-63d0d567f09c",
   "metadata": {},
   "outputs": [],
   "source": [
    "def shuffle(disprotIds, seed):\n",
    "    random.seed(seed)\n",
    "    random.shuffle(disprotIds)\n",
    "    return disprotIds"
   ]
  },
  {
   "cell_type": "code",
   "execution_count": 6,
   "id": "ae74296c-5b8f-41dd-bea4-1f34cd7050df",
   "metadata": {},
   "outputs": [],
   "source": [
    "def splitData(disprotIds):\n",
    "    trainSize = int(np.floor(70*len(disprotIds)/100))\n",
    "    print(\"Velicina trening skupa je: \", trainSize)\n",
    "\n",
    "    train = disprotIds[0:trainSize]\n",
    "\n",
    "    test = disprotIds[trainSize:]\n",
    "    return train, test"
   ]
  },
  {
   "cell_type": "code",
   "execution_count": 7,
   "id": "b22a64bf-1a8d-4d2b-8674-85864783c46b",
   "metadata": {},
   "outputs": [],
   "source": [
    "def dumpToFasta(testFile, trainFile, fastaTest, fastaTrain):\n",
    "    \n",
    "    with open(testFile, \"w\") as f:\n",
    "        for record in fastaTest:\n",
    "            SeqIO.write(record, f, \"fasta\")\n",
    "\n",
    "    with open(trainFile, \"w\") as f:\n",
    "        for record in fastaTrain:\n",
    "            SeqIO.write(record, f, \"fasta\")\n",
    "    return"
   ]
  },
  {
   "cell_type": "code",
   "execution_count": 8,
   "id": "1f34fa88-a9d3-4edf-b95d-5765a4afcb8c",
   "metadata": {},
   "outputs": [],
   "source": [
    "def processFile(records):   \n",
    "    sequences=[]\n",
    "    disprotIds=[]\n",
    "\n",
    "    for record in records:\n",
    "        sequences.append(record.seq)\n",
    "        disprotIds.append(record.id)\n",
    "\n",
    "    print(len(sequences))\n",
    "    print(len(disprotIds))\n",
    "    return sequences, disprotIds"
   ]
  },
  {
   "cell_type": "code",
   "execution_count": 9,
   "id": "e0e5f371-a158-4ef5-8a80-0aedc3af0071",
   "metadata": {},
   "outputs": [],
   "source": [
    "def openFile(filename, seed):\n",
    "    fastaTrain = []\n",
    "    fastaTest = []\n",
    "\n",
    "    disprotIds = []\n",
    "\n",
    "    records = SeqIO.parse(filename, \"fasta\")\n",
    "    \n",
    "    for record in records:\n",
    "        disprotIds.append(record.id)\n",
    "\n",
    "    shuffle(disprotIds, seed)\n",
    "\n",
    "    train, test = splitData(disprotIds)\n",
    "\n",
    "    set1 = set(test)\n",
    "    set2 = set(train)\n",
    "\n",
    "    fastaTest = []\n",
    "    fastaTrain = []\n",
    "\n",
    "    i = 0\n",
    "    records = SeqIO.parse(filename, \"fasta\")\n",
    "    for record in records:\n",
    "        i += 1\n",
    "        if record.id in test:\n",
    "            fastaTest.append(record)\n",
    "        else:\n",
    "            fastaTrain.append(record)\n",
    "    print(i)\n",
    "    print(len(fastaTest))\n",
    "    print(len(fastaTrain))\n",
    "    dumpToFasta(filename.replace(\"aaFastaFiles\", \"testSet\"), filename.replace(\"aaFastaFiles\", \"trainSet\"), fastaTest, fastaTrain)"
   ]
  },
  {
   "cell_type": "code",
   "execution_count": 10,
   "id": "246cfdc2-2df5-49e5-a79f-0eb8aa2e5005",
   "metadata": {},
   "outputs": [
    {
     "name": "stdout",
     "output_type": "stream",
     "text": [
      "Velicina trening skupa je:  16\n",
      "23\n",
      "7\n",
      "16\n",
      "Velicina trening skupa je:  63\n",
      "90\n",
      "27\n",
      "63\n",
      "Velicina trening skupa je:  306\n",
      "438\n",
      "132\n",
      "306\n",
      "Velicina trening skupa je:  36\n",
      "52\n",
      "16\n",
      "36\n",
      "Velicina trening skupa je:  7354\n",
      "10507\n",
      "3153\n",
      "7354\n",
      "Velicina trening skupa je:  17\n",
      "25\n",
      "8\n",
      "17\n",
      "Velicina trening skupa je:  508\n",
      "727\n",
      "219\n",
      "508\n",
      "Velicina trening skupa je:  1250\n",
      "1786\n",
      "536\n",
      "1250\n",
      "Velicina trening skupa je:  921\n",
      "1316\n",
      "395\n",
      "921\n",
      "Velicina trening skupa je:  11\n",
      "17\n",
      "6\n",
      "11\n",
      "Velicina trening skupa je:  355\n",
      "508\n",
      "153\n",
      "355\n",
      "Velicina trening skupa je:  497\n",
      "711\n",
      "214\n",
      "497\n",
      "Velicina trening skupa je:  4\n",
      "7\n",
      "3\n",
      "4\n",
      "Velicina trening skupa je:  5\n",
      "8\n",
      "3\n",
      "5\n",
      "Velicina trening skupa je:  29\n",
      "42\n",
      "13\n",
      "29\n",
      "Velicina trening skupa je:  4976\n",
      "7109\n",
      "2133\n",
      "4976\n",
      "Velicina trening skupa je:  881\n",
      "1259\n",
      "378\n",
      "881\n",
      "Velicina trening skupa je:  229\n",
      "328\n",
      "99\n",
      "229\n",
      "Velicina trening skupa je:  14\n",
      "20\n",
      "6\n",
      "14\n",
      "Velicina trening skupa je:  854\n",
      "1220\n",
      "366\n",
      "854\n"
     ]
    }
   ],
   "source": [
    "seed = 42\n",
    "\n",
    "folder = \"../aaFastaFiles/\"\n",
    "for file in os.listdir(folder):\n",
    "    if file.startswith(\".\"):\n",
    "        continue\n",
    "\n",
    "    path = folder + file\n",
    "    openFile(path, seed)"
   ]
  }
 ],
 "metadata": {
  "kernelspec": {
   "display_name": "Python 3 (ipykernel)",
   "language": "python",
   "name": "python3"
  },
  "language_info": {
   "codemirror_mode": {
    "name": "ipython",
    "version": 3
   },
   "file_extension": ".py",
   "mimetype": "text/x-python",
   "name": "python",
   "nbconvert_exporter": "python",
   "pygments_lexer": "ipython3",
   "version": "3.10.12"
  }
 },
 "nbformat": 4,
 "nbformat_minor": 5
}
