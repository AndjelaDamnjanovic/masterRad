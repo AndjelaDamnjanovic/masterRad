{
 "cells": [
  {
   "cell_type": "code",
   "execution_count": 5,
   "id": "03af037f-e7b4-4dc2-b6ab-7de01e46ffa1",
   "metadata": {},
   "outputs": [],
   "source": [
    "import os\n",
    "import csv"
   ]
  },
  {
   "cell_type": "code",
   "execution_count": 6,
   "id": "05f100ea-85eb-4f1a-a318-bc6cd092a046",
   "metadata": {},
   "outputs": [],
   "source": [
    "def makeTypeRepeatfile(filename):\n",
    "    headers = [\"covidType\", \"repeats\"]\n",
    "    with open(filename, mode=\"a\", newline=\"\") as file:\n",
    "        writer = csv.writer(file)\n",
    "        writer.writerow(headers)"
   ]
  },
  {
   "cell_type": "code",
   "execution_count": 7,
   "id": "c7fae1e8-72bd-4874-b199-112613eabb17",
   "metadata": {},
   "outputs": [],
   "source": [
    "def extractDirectRepeats(inPath, outPath = \"\"):\n",
    "    with open(inPath, \"r\") as fIn, open(outPath, \"a\") as fOut:\n",
    "        for line in fIn:\n",
    "            data = [[inPath.split(\"/\")[3].split(\".\")[0], line.split(\",\")[6]]]\n",
    "            writer = csv.writer(fOut)\n",
    "            writer.writerows(data)"
   ]
  },
  {
   "cell_type": "code",
   "execution_count": 8,
   "id": "c2cf2938-b44c-442b-b370-845c3dcafdcf",
   "metadata": {},
   "outputs": [],
   "source": [
    "def createFolder(folder):\n",
    "    if not os.path.exists(folder):\n",
    "        os.makedirs(folder)\n",
    "        print(f\"Folder '{folder}' created.\")\n",
    "    else:\n",
    "        print(f\"Folder '{folder}' already exists.\")"
   ]
  },
  {
   "cell_type": "code",
   "execution_count": 9,
   "id": "311aa855-0584-4ab4-8947-599a53afb5b2",
   "metadata": {},
   "outputs": [
    {
     "name": "stdout",
     "output_type": "stream",
     "text": [
      "Folder '../proba2NoDuplicates' created.\n",
      "Folder '../proba2NoDuplicates/direct' created.\n",
      "Folder '../proba2NoDuplicates/indirect' created.\n"
     ]
    }
   ],
   "source": [
    "createFolder(\"../proba2NoDuplicates\")\n",
    "createFolder(\"../proba2NoDuplicates/direct\")\n",
    "createFolder(\"../proba2NoDuplicates/indirect\")"
   ]
  },
  {
   "cell_type": "code",
   "execution_count": 10,
   "id": "b2f70307-92ad-429a-8f06-f607a5eb7e48",
   "metadata": {},
   "outputs": [],
   "source": [
    "baseFolder = \"../trainSetRepeatsNoDuplicates/direct\"\n",
    "for file in os.listdir(baseFolder):\n",
    "    path = baseFolder + \"/\" + file\n",
    "        #print(path)\n",
    "        \n",
    "    if file.startswith(\".\"):\n",
    "        continue\n",
    "\n",
    "    if file.endswith(\".fasta.load\"):\n",
    "        out = path.replace(\"trainSetRepeats\", \"proba2\").replace(\".fasta.load\", \".csv\")\n",
    "        makeTypeRepeatfile(out)\n",
    "        extractDirectRepeats(path, out)"
   ]
  },
  {
   "cell_type": "code",
   "execution_count": 11,
   "id": "88a7e794-18c8-41d1-a30f-e4c306b42fbb",
   "metadata": {},
   "outputs": [],
   "source": [
    "baseFolder = \"../trainSetRepeatsNoDuplicates/indirect\"\n",
    "for file in os.listdir(baseFolder):\n",
    "    path = baseFolder + \"/\" + file\n",
    "        #print(path)\n",
    "        \n",
    "    if file.startswith(\".\"):\n",
    "        continue\n",
    "\n",
    "    if file.endswith(\".fasta.load\"):\n",
    "        out = path.replace(\"trainSetRepeats\", \"proba2\").replace(\".fasta.load\", \".csv\")\n",
    "        makeTypeRepeatfile(out)\n",
    "        extractDirectRepeats(path, out)"
   ]
  },
  {
   "cell_type": "code",
   "execution_count": null,
   "id": "76d91c12-fe99-49d7-9f1f-2cca9bc779aa",
   "metadata": {},
   "outputs": [],
   "source": []
  }
 ],
 "metadata": {
  "kernelspec": {
   "display_name": "Python 3 (ipykernel)",
   "language": "python",
   "name": "python3"
  },
  "language_info": {
   "codemirror_mode": {
    "name": "ipython",
    "version": 3
   },
   "file_extension": ".py",
   "mimetype": "text/x-python",
   "name": "python",
   "nbconvert_exporter": "python",
   "pygments_lexer": "ipython3",
   "version": "3.10.12"
  }
 },
 "nbformat": 4,
 "nbformat_minor": 5
}
