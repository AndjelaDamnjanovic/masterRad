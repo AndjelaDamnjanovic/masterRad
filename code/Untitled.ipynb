{
 "cells": [
  {
   "cell_type": "code",
   "execution_count": 7,
   "id": "b106e14a-a300-478a-9f56-5415aaa192dd",
   "metadata": {},
   "outputs": [],
   "source": [
    "from Bio import Entrez\n",
    "import time\n",
    "import requests"
   ]
  },
  {
   "cell_type": "code",
   "execution_count": 9,
   "id": "843a9deb-8ba3-480a-b3dc-aad01ffff663",
   "metadata": {},
   "outputs": [
    {
     "name": "stdout",
     "output_type": "stream",
     "text": [
      "Total accessions: 4112783\n",
      "Fetching batch 0–500...\n",
      "Retrying batch due to error: HTTP 414: \n",
      "Retrying batch due to error: HTTP 414: \n"
     ]
    },
    {
     "ename": "KeyboardInterrupt",
     "evalue": "",
     "output_type": "error",
     "traceback": [
      "\u001b[0;31m---------------------------------------------------------------------------\u001b[0m",
      "\u001b[0;31mException\u001b[0m                                 Traceback (most recent call last)",
      "Cell \u001b[0;32mIn[9], line 30\u001b[0m, in \u001b[0;36mfetch_batch\u001b[0;34m(acc_batch)\u001b[0m\n\u001b[1;32m     29\u001b[0m     \u001b[38;5;28;01melse\u001b[39;00m:\n\u001b[0;32m---> 30\u001b[0m         \u001b[38;5;28;01mraise\u001b[39;00m \u001b[38;5;167;01mException\u001b[39;00m(\u001b[38;5;124mf\u001b[39m\u001b[38;5;124m\"\u001b[39m\u001b[38;5;124mHTTP \u001b[39m\u001b[38;5;132;01m{\u001b[39;00mresponse\u001b[38;5;241m.\u001b[39mstatus_code\u001b[38;5;132;01m}\u001b[39;00m\u001b[38;5;124m: \u001b[39m\u001b[38;5;132;01m{\u001b[39;00mresponse\u001b[38;5;241m.\u001b[39mtext\u001b[38;5;132;01m}\u001b[39;00m\u001b[38;5;124m\"\u001b[39m)\n\u001b[1;32m     31\u001b[0m \u001b[38;5;28;01mexcept\u001b[39;00m \u001b[38;5;167;01mException\u001b[39;00m \u001b[38;5;28;01mas\u001b[39;00m e:\n",
      "\u001b[0;31mException\u001b[0m: HTTP 414: ",
      "\nDuring handling of the above exception, another exception occurred:\n",
      "\u001b[0;31mKeyboardInterrupt\u001b[0m                         Traceback (most recent call last)",
      "Cell \u001b[0;32mIn[9], line 55\u001b[0m\n\u001b[1;32m     52\u001b[0m         time\u001b[38;5;241m.\u001b[39msleep(\u001b[38;5;241m0.2\u001b[39m)  \u001b[38;5;66;03m# Use 0.1 for 10/sec with API key\u001b[39;00m\n\u001b[1;32m     54\u001b[0m \u001b[38;5;28;01mif\u001b[39;00m \u001b[38;5;18m__name__\u001b[39m \u001b[38;5;241m==\u001b[39m \u001b[38;5;124m\"\u001b[39m\u001b[38;5;124m__main__\u001b[39m\u001b[38;5;124m\"\u001b[39m:\n\u001b[0;32m---> 55\u001b[0m     \u001b[43mmain\u001b[49m\u001b[43m(\u001b[49m\u001b[43m)\u001b[49m\n",
      "Cell \u001b[0;32mIn[9], line 49\u001b[0m, in \u001b[0;36mmain\u001b[0;34m()\u001b[0m\n\u001b[1;32m     47\u001b[0m batch \u001b[38;5;241m=\u001b[39m accessions[i:i \u001b[38;5;241m+\u001b[39m batch_size]\n\u001b[1;32m     48\u001b[0m \u001b[38;5;28mprint\u001b[39m(\u001b[38;5;124mf\u001b[39m\u001b[38;5;124m\"\u001b[39m\u001b[38;5;124mFetching batch \u001b[39m\u001b[38;5;132;01m{\u001b[39;00mi\u001b[38;5;132;01m}\u001b[39;00m\u001b[38;5;124m–\u001b[39m\u001b[38;5;132;01m{\u001b[39;00mi\u001b[38;5;250m \u001b[39m\u001b[38;5;241m+\u001b[39m\u001b[38;5;250m \u001b[39m\u001b[38;5;28mlen\u001b[39m(batch)\u001b[38;5;132;01m}\u001b[39;00m\u001b[38;5;124m...\u001b[39m\u001b[38;5;124m\"\u001b[39m)\n\u001b[0;32m---> 49\u001b[0m fasta_data \u001b[38;5;241m=\u001b[39m \u001b[43mfetch_batch\u001b[49m\u001b[43m(\u001b[49m\u001b[43mbatch\u001b[49m\u001b[43m)\u001b[49m\n\u001b[1;32m     50\u001b[0m \u001b[38;5;28;01mif\u001b[39;00m fasta_data:\n\u001b[1;32m     51\u001b[0m     write_fasta(fasta_data, output_file)\n",
      "Cell \u001b[0;32mIn[9], line 34\u001b[0m, in \u001b[0;36mfetch_batch\u001b[0;34m(acc_batch)\u001b[0m\n\u001b[1;32m     32\u001b[0m         attempt \u001b[38;5;241m+\u001b[39m\u001b[38;5;241m=\u001b[39m \u001b[38;5;241m1\u001b[39m\n\u001b[1;32m     33\u001b[0m         \u001b[38;5;28mprint\u001b[39m(\u001b[38;5;124mf\u001b[39m\u001b[38;5;124m\"\u001b[39m\u001b[38;5;124mRetrying batch due to error: \u001b[39m\u001b[38;5;132;01m{\u001b[39;00me\u001b[38;5;132;01m}\u001b[39;00m\u001b[38;5;124m\"\u001b[39m)\n\u001b[0;32m---> 34\u001b[0m         \u001b[43mtime\u001b[49m\u001b[38;5;241;43m.\u001b[39;49m\u001b[43msleep\u001b[49m\u001b[43m(\u001b[49m\u001b[38;5;241;43m5\u001b[39;49m\u001b[43m)\u001b[49m\n\u001b[1;32m     35\u001b[0m \u001b[38;5;28;01mreturn\u001b[39;00m \u001b[38;5;124m\"\u001b[39m\u001b[38;5;124m\"\u001b[39m\n",
      "\u001b[0;31mKeyboardInterrupt\u001b[0m: "
     ]
    }
   ],
   "source": [
    "Entrez.email = \"andja13damnjanovic@gmail.com\"\n",
    "Entrez.api_key = \"e24a5d5f305cab8c57add5f35abe6dd6ff09\"  # Replace with your real API key\n",
    "\n",
    "batch_size = 500\n",
    "input_file = \"../processedDatasets/SARS-CoV2/accessions.txt\"\n",
    "output_file = \"sequences.fasta\"\n",
    "\n",
    "def read_accessions(file_path):\n",
    "    with open(file_path) as f:\n",
    "        return [line.strip() for line in f if line.strip()]\n",
    "    \n",
    "\n",
    "def fetch_batch(acc_batch):\n",
    "    attempt = 0\n",
    "    while attempt < 3:\n",
    "        try:\n",
    "            accession_string = \",\".join(acc_batch)\n",
    "            url = \"https://eutils.ncbi.nlm.nih.gov/entrez/eutils/efetch.fcgi\"\n",
    "            params = {\n",
    "                \"db\": \"protein\",\n",
    "                \"id\": accession_string,\n",
    "                \"rettype\": \"fasta\",\n",
    "                \"retmode\": \"text\",\n",
    "                \"api_key\": Entrez.api_key\n",
    "            }\n",
    "            response = requests.get(url, params=params)\n",
    "            if response.status_code == 200:\n",
    "                return response.text\n",
    "            else:\n",
    "                raise Exception(f\"HTTP {response.status_code}: {response.text}\")\n",
    "        except Exception as e:\n",
    "            attempt += 1\n",
    "            print(f\"Retrying batch due to error: {e}\")\n",
    "            time.sleep(5)\n",
    "    return \"\"\n",
    "\n",
    "def write_fasta(data, out_path):\n",
    "    with open(out_path, \"a\") as out:\n",
    "        out.write(data)\n",
    "\n",
    "def main():\n",
    "    accessions = read_accessions(input_file)\n",
    "    total = len(accessions)\n",
    "    print(f\"Total accessions: {total}\")\n",
    "\n",
    "    for i in range(0, total, batch_size):\n",
    "        batch = accessions[i:i + batch_size]\n",
    "        print(f\"Fetching batch {i}–{i + len(batch)}...\")\n",
    "        fasta_data = fetch_batch(batch)\n",
    "        if fasta_data:\n",
    "            write_fasta(fasta_data, output_file)\n",
    "        time.sleep(0.2)  # Use 0.1 for 10/sec with API key\n",
    "\n",
    "if __name__ == \"__main__\":\n",
    "    main()"
   ]
  },
  {
   "cell_type": "code",
   "execution_count": null,
   "id": "e84c24f3-e19a-48a6-9d74-0a5de94b9c38",
   "metadata": {},
   "outputs": [],
   "source": []
  }
 ],
 "metadata": {
  "kernelspec": {
   "display_name": "Python 3 (ipykernel)",
   "language": "python",
   "name": "python3"
  },
  "language_info": {
   "codemirror_mode": {
    "name": "ipython",
    "version": 3
   },
   "file_extension": ".py",
   "mimetype": "text/x-python",
   "name": "python",
   "nbconvert_exporter": "python",
   "pygments_lexer": "ipython3",
   "version": "3.10.12"
  }
 },
 "nbformat": 4,
 "nbformat_minor": 5
}
