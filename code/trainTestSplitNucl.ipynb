{
 "cells": [
  {
   "cell_type": "code",
   "execution_count": 1,
   "id": "926687d6-0448-463a-bcca-db3c24ffafca",
   "metadata": {},
   "outputs": [],
   "source": [
    "import os\n",
    "import csv\n",
    "\n",
    "import sys\n",
    "import random\n",
    "import numpy as np\n",
    "\n",
    "from Bio.Seq import Seq\n",
    "from Bio.SeqRecord import SeqRecord\n",
    "from Bio import SeqIO"
   ]
  },
  {
   "cell_type": "code",
   "execution_count": 2,
   "id": "5283512b-9ac2-45ca-8e0d-66b237666a2f",
   "metadata": {},
   "outputs": [],
   "source": [
    "def createFolder(folder):\n",
    "    if not os.path.exists(folder):\n",
    "        os.makedirs(folder)\n",
    "        print(f\"Folder '{folder}' created.\")\n",
    "    else:\n",
    "        print(f\"Folder '{folder}' already exists.\")"
   ]
  },
  {
   "cell_type": "code",
   "execution_count": 3,
   "id": "f0f5245b-71ee-406e-afea-b9b1bcd749fe",
   "metadata": {},
   "outputs": [
    {
     "name": "stdout",
     "output_type": "stream",
     "text": [
      "Folder '../trainSetNucl/' created.\n",
      "Folder '../testSetNucl/' created.\n"
     ]
    }
   ],
   "source": [
    "createFolder(\"../trainSetNucl/\")\n",
    "createFolder(\"../testSetNucl/\")"
   ]
  },
  {
   "cell_type": "code",
   "execution_count": 4,
   "id": "92325127-fb05-4ee9-960d-8575acd400d6",
   "metadata": {},
   "outputs": [],
   "source": [
    "def shuffle(disprotIds, seed):\n",
    "    random.seed(seed)\n",
    "    random.shuffle(disprotIds)\n",
    "    return disprotIds"
   ]
  },
  {
   "cell_type": "code",
   "execution_count": 5,
   "id": "b373005c-c5d9-4eb6-a7d5-dea37268c021",
   "metadata": {},
   "outputs": [],
   "source": [
    "def splitData(disprotIds):\n",
    "    trainSize = int(np.floor(70*len(disprotIds)/100))\n",
    "    print(\"Velicina trening skupa je: \", trainSize)\n",
    "\n",
    "    train = disprotIds[0:trainSize]\n",
    "\n",
    "    test = disprotIds[trainSize:]\n",
    "    return train, test"
   ]
  },
  {
   "cell_type": "code",
   "execution_count": 6,
   "id": "42827ded-877f-4adf-8682-7757ed6fab08",
   "metadata": {},
   "outputs": [],
   "source": [
    "def dumpToFasta(testFile, trainFile, fastaTest, fastaTrain):\n",
    "    \n",
    "    with open(testFile, \"w\") as f:\n",
    "        for record in fastaTest:\n",
    "            SeqIO.write(record, f, \"fasta\")\n",
    "\n",
    "    with open(trainFile, \"w\") as f:\n",
    "        for record in fastaTrain:\n",
    "            SeqIO.write(record, f, \"fasta\")\n",
    "    return"
   ]
  },
  {
   "cell_type": "code",
   "execution_count": 7,
   "id": "60b59595-d807-44a7-871d-139bb01a098b",
   "metadata": {},
   "outputs": [],
   "source": [
    "def processFile(records):   \n",
    "    sequences=[]\n",
    "    disprotIds=[]\n",
    "\n",
    "    for record in records:\n",
    "        sequences.append(record.seq)\n",
    "        disprotIds.append(record.id)\n",
    "\n",
    "    print(len(sequences))\n",
    "    print(len(disprotIds))\n",
    "    return sequences, disprotIds"
   ]
  },
  {
   "cell_type": "code",
   "execution_count": 8,
   "id": "59e48aa6-cce4-4085-b804-dcfcbbe98a2f",
   "metadata": {},
   "outputs": [],
   "source": [
    "def openFile(filename, seed):\n",
    "    fastaTrain = []\n",
    "    fastaTest = []\n",
    "        \n",
    "    records = SeqIO.parse(filename, \"fasta\")\n",
    "\n",
    "    sequences, disprotIds = processFile(records)\n",
    "    shuffle(disprotIds, seed)\n",
    "\n",
    "    train, test = splitData(disprotIds)\n",
    "\n",
    "    records = SeqIO.parse(filename, \"fasta\")\n",
    "\n",
    "    set1 = set(test)\n",
    "    set2 = set(train)\n",
    "\n",
    "    \n",
    "    for record in records:\n",
    "        if record.id in test:# and podaci[i]['disprot_id'] not in testIds:\n",
    "            fastaTest.append(record)\n",
    "        else:\n",
    "            fastaTrain.append(record)\n",
    "    \n",
    "    print(len(fastaTest))\n",
    "    print(len(fastaTrain))\n",
    "    dumpToFasta(filename.replace(\"nuclFastaFiles\", \"testSetNucl\"), filename.replace(\"nuclFastaFiles\", \"trainSetNucl\"), fastaTest, fastaTrain)"
   ]
  },
  {
   "cell_type": "code",
   "execution_count": 9,
   "id": "1d5a7e47-2eaf-4ead-92de-c64632f7d141",
   "metadata": {},
   "outputs": [
    {
     "name": "stdout",
     "output_type": "stream",
     "text": [
      "23\n",
      "23\n",
      "Velicina trening skupa je:  16\n",
      "7\n",
      "16\n",
      "90\n",
      "90\n",
      "Velicina trening skupa je:  63\n",
      "27\n",
      "63\n",
      "438\n",
      "438\n",
      "Velicina trening skupa je:  306\n",
      "132\n",
      "306\n",
      "49\n",
      "49\n",
      "Velicina trening skupa je:  34\n",
      "15\n",
      "34\n",
      "10498\n",
      "10498\n",
      "Velicina trening skupa je:  7348\n",
      "3150\n",
      "7348\n",
      "24\n",
      "24\n",
      "Velicina trening skupa je:  16\n",
      "8\n",
      "16\n",
      "724\n",
      "724\n",
      "Velicina trening skupa je:  506\n",
      "218\n",
      "506\n",
      "1784\n",
      "1784\n",
      "Velicina trening skupa je:  1248\n",
      "536\n",
      "1248\n",
      "1315\n",
      "1315\n",
      "Velicina trening skupa je:  920\n",
      "395\n",
      "920\n",
      "17\n",
      "17\n",
      "Velicina trening skupa je:  11\n",
      "6\n",
      "11\n",
      "507\n",
      "507\n",
      "Velicina trening skupa je:  354\n",
      "153\n",
      "354\n",
      "710\n",
      "710\n",
      "Velicina trening skupa je:  497\n",
      "213\n",
      "497\n",
      "7\n",
      "7\n",
      "Velicina trening skupa je:  4\n",
      "3\n",
      "4\n",
      "8\n",
      "8\n",
      "Velicina trening skupa je:  5\n",
      "3\n",
      "5\n",
      "42\n",
      "42\n",
      "Velicina trening skupa je:  29\n",
      "13\n",
      "29\n",
      "4531\n",
      "4531\n",
      "Velicina trening skupa je:  3171\n",
      "1360\n",
      "3171\n",
      "1249\n",
      "1249\n",
      "Velicina trening skupa je:  874\n",
      "375\n",
      "874\n",
      "325\n",
      "325\n",
      "Velicina trening skupa je:  227\n",
      "98\n",
      "227\n",
      "20\n",
      "20\n",
      "Velicina trening skupa je:  14\n",
      "6\n",
      "14\n",
      "1219\n",
      "1219\n",
      "Velicina trening skupa je:  853\n",
      "366\n",
      "853\n"
     ]
    }
   ],
   "source": [
    "seed = [10, 15, 38, 42, 16, 52, 4, 78, 23, 0] * 2\n",
    "i = 0\n",
    "folder = \"../nuclFastaFiles/\"\n",
    "for file in os.listdir(folder):\n",
    "    if file.startswith(\".\"):\n",
    "        continue\n",
    "\n",
    "    path = folder + file\n",
    "    openFile(path, seed[i])\n",
    "    i += 1"
   ]
  },
  {
   "cell_type": "code",
   "execution_count": null,
   "id": "86624e34-6901-41a3-ba8e-aeda4f8897c1",
   "metadata": {},
   "outputs": [],
   "source": []
  }
 ],
 "metadata": {
  "kernelspec": {
   "display_name": "Python 3 (ipykernel)",
   "language": "python",
   "name": "python3"
  },
  "language_info": {
   "codemirror_mode": {
    "name": "ipython",
    "version": 3
   },
   "file_extension": ".py",
   "mimetype": "text/x-python",
   "name": "python",
   "nbconvert_exporter": "python",
   "pygments_lexer": "ipython3",
   "version": "3.10.12"
  }
 },
 "nbformat": 4,
 "nbformat_minor": 5
}
