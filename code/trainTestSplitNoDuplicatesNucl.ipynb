{
 "cells": [
  {
   "cell_type": "code",
   "execution_count": 1,
   "id": "d42bffc8-cd2f-4b08-b94e-112400c9baef",
   "metadata": {},
   "outputs": [],
   "source": [
    "import os\n",
    "import csv\n",
    "\n",
    "import sys\n",
    "import random\n",
    "import numpy as np\n",
    "\n",
    "from Bio.Seq import Seq\n",
    "from Bio.SeqRecord import SeqRecord\n",
    "from Bio import SeqIO"
   ]
  },
  {
   "cell_type": "code",
   "execution_count": 2,
   "id": "e5764c36-f807-4d90-9490-e6e1942acd10",
   "metadata": {},
   "outputs": [],
   "source": [
    "def createFolder(folder):\n",
    "    if not os.path.exists(folder):\n",
    "        os.makedirs(folder)\n",
    "        print(f\"Folder '{folder}' created.\")\n",
    "    else:\n",
    "        print(f\"Folder '{folder}' already exists.\")"
   ]
  },
  {
   "cell_type": "code",
   "execution_count": 3,
   "id": "a9355483-811c-44f0-ba39-687d1b95a68c",
   "metadata": {},
   "outputs": [
    {
     "name": "stdout",
     "output_type": "stream",
     "text": [
      "Folder '../trainSetNoDuplicatesNucl/' created.\n",
      "Folder '../testSetNoDuplicatesNucl/' created.\n"
     ]
    }
   ],
   "source": [
    "createFolder(\"../trainSetNoDuplicatesNucl/\")\n",
    "createFolder(\"../testSetNoDuplicatesNucl/\")"
   ]
  },
  {
   "cell_type": "code",
   "execution_count": 4,
   "id": "bd1d36d4-5f98-47df-8ac2-fc8d265c07b2",
   "metadata": {},
   "outputs": [],
   "source": [
    "def shuffle(disprotIds, seed):\n",
    "    random.seed(seed)\n",
    "    random.shuffle(disprotIds)\n",
    "    return disprotIds"
   ]
  },
  {
   "cell_type": "code",
   "execution_count": 5,
   "id": "6d07ebcf-22f2-47bd-b8ec-d3a083fd7f2f",
   "metadata": {},
   "outputs": [],
   "source": [
    "def splitData(disprotIds):\n",
    "    trainSize = int(np.floor(70*len(disprotIds)/100))\n",
    "    print(\"Velicina trening skupa je: \", trainSize)\n",
    "\n",
    "    train = disprotIds[0:trainSize]\n",
    "\n",
    "    test = disprotIds[trainSize:]\n",
    "    return train, test"
   ]
  },
  {
   "cell_type": "code",
   "execution_count": 6,
   "id": "3dd60890-5190-4191-9cfa-99f432c26ab9",
   "metadata": {},
   "outputs": [],
   "source": [
    "def dumpToFasta(testFile, trainFile, fastaTest, fastaTrain):\n",
    "    \n",
    "    with open(testFile, \"w\") as f:\n",
    "        for record in fastaTest:\n",
    "            SeqIO.write(record, f, \"fasta\")\n",
    "\n",
    "    with open(trainFile, \"w\") as f:\n",
    "        for record in fastaTrain:\n",
    "            SeqIO.write(record, f, \"fasta\")\n",
    "    return"
   ]
  },
  {
   "cell_type": "code",
   "execution_count": 7,
   "id": "263a3dbf-584b-4415-a9db-4c967429e129",
   "metadata": {},
   "outputs": [],
   "source": [
    "def processFile(records):   \n",
    "    sequences=[]\n",
    "    disprotIds=[]\n",
    "\n",
    "    for record in records:\n",
    "        sequences.append(record.seq)\n",
    "        disprotIds.append(record.id)\n",
    "\n",
    "    print(len(sequences))\n",
    "    print(len(disprotIds))\n",
    "    return sequences, disprotIds"
   ]
  },
  {
   "cell_type": "code",
   "execution_count": 8,
   "id": "431b75e0-c248-44e9-8591-a808a9091b61",
   "metadata": {},
   "outputs": [],
   "source": [
    "def openFile(filename, seed):\n",
    "    fastaTrain = []\n",
    "    fastaTest = []\n",
    "\n",
    "    disprotIds = []\n",
    "\n",
    "    records = SeqIO.parse(filename, \"fasta\")\n",
    "    \n",
    "    for record in records:\n",
    "        disprotIds.append(record.id)\n",
    "\n",
    "    shuffle(disprotIds, seed)\n",
    "\n",
    "    train, test = splitData(disprotIds)\n",
    "\n",
    "    set1 = set(test)\n",
    "    set2 = set(train)\n",
    "\n",
    "    fastaTest = []\n",
    "    fastaTrain = []\n",
    "\n",
    "    i = 0\n",
    "    records = SeqIO.parse(filename, \"fasta\")\n",
    "    for record in records:\n",
    "        i += 1\n",
    "        if record.id in test:\n",
    "            fastaTest.append(record)\n",
    "        else:\n",
    "            fastaTrain.append(record)\n",
    "    print(i)\n",
    "    print(len(fastaTest))\n",
    "    print(len(fastaTrain))\n",
    "    #print(filename.replace(\"fastaNoDuplicates/aaFastaFiles\", \"testSetNoDuplicates\"), filename.replace(\"fastaNoDuplicates/aaFastaFiles\", \"trainSetNoDuplicates\"), fastaTest, fastaTrain)\n",
    "    dumpToFasta(filename.replace(\"fastaNoDuplicates/nuclFastaFiles\", \"testSetNoDuplicatesNucl\"), filename.replace(\"fastaNoDuplicates/nuclFastaFiles\", \"trainSetNoDuplicatesNucl\"), fastaTest, fastaTrain)"
   ]
  },
  {
   "cell_type": "code",
   "execution_count": 9,
   "id": "4409e2fa-6628-420a-93b9-aaccbfa27bee",
   "metadata": {},
   "outputs": [
    {
     "name": "stdout",
     "output_type": "stream",
     "text": [
      "Velicina trening skupa je:  14\n",
      "20\n",
      "6\n",
      "14\n",
      "Velicina trening skupa je:  56\n",
      "80\n",
      "24\n",
      "56\n",
      "Velicina trening skupa je:  252\n",
      "360\n",
      "108\n",
      "252\n",
      "Velicina trening skupa je:  30\n",
      "43\n",
      "13\n",
      "30\n",
      "Velicina trening skupa je:  5289\n",
      "7556\n",
      "2267\n",
      "5289\n",
      "Velicina trening skupa je:  14\n",
      "20\n",
      "6\n",
      "14\n",
      "Velicina trening skupa je:  378\n",
      "540\n",
      "162\n",
      "378\n",
      "Velicina trening skupa je:  1033\n",
      "1477\n",
      "444\n",
      "1033\n",
      "Velicina trening skupa je:  460\n",
      "658\n",
      "198\n",
      "460\n",
      "Velicina trening skupa je:  11\n",
      "16\n",
      "5\n",
      "11\n",
      "Velicina trening skupa je:  276\n",
      "395\n",
      "119\n",
      "276\n",
      "Velicina trening skupa je:  359\n",
      "513\n",
      "154\n",
      "359\n",
      "Velicina trening skupa je:  2\n",
      "4\n",
      "2\n",
      "2\n",
      "Velicina trening skupa je:  2\n",
      "4\n",
      "2\n",
      "2\n",
      "Velicina trening skupa je:  25\n",
      "36\n",
      "11\n",
      "25\n",
      "Velicina trening skupa je:  1456\n",
      "2080\n",
      "624\n",
      "1456\n",
      "Velicina trening skupa je:  641\n",
      "917\n",
      "276\n",
      "641\n",
      "Velicina trening skupa je:  156\n",
      "224\n",
      "68\n",
      "156\n",
      "Velicina trening skupa je:  11\n",
      "17\n",
      "6\n",
      "11\n",
      "Velicina trening skupa je:  586\n",
      "838\n",
      "252\n",
      "586\n"
     ]
    }
   ],
   "source": [
    "seed = 42\n",
    "\n",
    "folder = \"../fastaNoDuplicates/nuclFastaFiles/\"\n",
    "for file in os.listdir(folder):\n",
    "    if file.startswith(\".\"):\n",
    "        continue\n",
    "\n",
    "    path = folder + file\n",
    "    openFile(path, seed)"
   ]
  },
  {
   "cell_type": "code",
   "execution_count": null,
   "id": "7c1ec94c-1e74-45be-b99f-7b8a3ab05bf3",
   "metadata": {},
   "outputs": [],
   "source": []
  }
 ],
 "metadata": {
  "kernelspec": {
   "display_name": "Python 3 (ipykernel)",
   "language": "python",
   "name": "python3"
  },
  "language_info": {
   "codemirror_mode": {
    "name": "ipython",
    "version": 3
   },
   "file_extension": ".py",
   "mimetype": "text/x-python",
   "name": "python",
   "nbconvert_exporter": "python",
   "pygments_lexer": "ipython3",
   "version": "3.10.12"
  }
 },
 "nbformat": 4,
 "nbformat_minor": 5
}
