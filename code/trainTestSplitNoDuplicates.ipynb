{
 "cells": [
  {
   "cell_type": "code",
   "execution_count": 1,
   "id": "61f83781-2380-4372-90ff-809e3aa43123",
   "metadata": {},
   "outputs": [],
   "source": [
    "import os\n",
    "import csv\n",
    "\n",
    "import sys\n",
    "import random\n",
    "import numpy as np\n",
    "\n",
    "from Bio.Seq import Seq\n",
    "from Bio.SeqRecord import SeqRecord\n",
    "from Bio import SeqIO"
   ]
  },
  {
   "cell_type": "code",
   "execution_count": 2,
   "id": "24f1f1aa-be00-4e38-8084-d2734de126f1",
   "metadata": {},
   "outputs": [],
   "source": [
    "def createFolder(folder):\n",
    "    if not os.path.exists(folder):\n",
    "        os.makedirs(folder)\n",
    "        print(f\"Folder '{folder}' created.\")\n",
    "    else:\n",
    "        print(f\"Folder '{folder}' already exists.\")"
   ]
  },
  {
   "cell_type": "code",
   "execution_count": 3,
   "id": "4dbc0aed-b3a7-41ae-b2b2-1ff0b0775c1d",
   "metadata": {},
   "outputs": [
    {
     "name": "stdout",
     "output_type": "stream",
     "text": [
      "Folder '../trainSetNoDuplicates/' created.\n"
     ]
    }
   ],
   "source": [
    "createFolder(\"../trainSetNoDuplicates/\")"
   ]
  },
  {
   "cell_type": "code",
   "execution_count": 4,
   "id": "2c1d43b1-8bbd-4460-ae5b-7f5e9513114f",
   "metadata": {},
   "outputs": [
    {
     "name": "stdout",
     "output_type": "stream",
     "text": [
      "Folder '../testSetNoDuplicates/' created.\n"
     ]
    }
   ],
   "source": [
    "createFolder(\"../testSetNoDuplicates/\")"
   ]
  },
  {
   "cell_type": "code",
   "execution_count": 5,
   "id": "066e6049-fdcf-48ce-90e1-cdb6c0e7ba0f",
   "metadata": {},
   "outputs": [],
   "source": [
    "def shuffle(disprotIds, seed):\n",
    "    random.seed(seed)\n",
    "    random.shuffle(disprotIds)\n",
    "    return disprotIds"
   ]
  },
  {
   "cell_type": "code",
   "execution_count": 6,
   "id": "81ebe1a7-2255-4aa4-904e-403249ba9457",
   "metadata": {},
   "outputs": [],
   "source": [
    "def splitData(disprotIds):\n",
    "    trainSize = int(np.floor(70*len(disprotIds)/100))\n",
    "    print(\"Velicina trening skupa je: \", trainSize)\n",
    "\n",
    "    train = disprotIds[0:trainSize]\n",
    "\n",
    "    test = disprotIds[trainSize:]\n",
    "    return train, test"
   ]
  },
  {
   "cell_type": "code",
   "execution_count": 7,
   "id": "341c1dfc-0e5e-4b9d-a9d5-04962c5eae67",
   "metadata": {},
   "outputs": [],
   "source": [
    "def dumpToFasta(testFile, trainFile, fastaTest, fastaTrain):\n",
    "    \n",
    "    with open(testFile, \"w\") as f:\n",
    "        for record in fastaTest:\n",
    "            SeqIO.write(record, f, \"fasta\")\n",
    "\n",
    "    with open(trainFile, \"w\") as f:\n",
    "        for record in fastaTrain:\n",
    "            SeqIO.write(record, f, \"fasta\")\n",
    "    return"
   ]
  },
  {
   "cell_type": "code",
   "execution_count": 8,
   "id": "f2ae0d52-0bdd-4d8c-b9f9-d9dc4a2c7544",
   "metadata": {},
   "outputs": [],
   "source": [
    "def processFile(records):   \n",
    "    sequences=[]\n",
    "    disprotIds=[]\n",
    "\n",
    "    for record in records:\n",
    "        sequences.append(record.seq)\n",
    "        disprotIds.append(record.id)\n",
    "\n",
    "    print(len(sequences))\n",
    "    print(len(disprotIds))\n",
    "    return sequences, disprotIds"
   ]
  },
  {
   "cell_type": "code",
   "execution_count": 9,
   "id": "c7ddfb71-c6c1-4cf1-81a6-07eb81f191d6",
   "metadata": {},
   "outputs": [],
   "source": [
    "def openFile(filename, seed):\n",
    "    fastaTrain = []\n",
    "    fastaTest = []\n",
    "\n",
    "    disprotIds = []\n",
    "\n",
    "    records = SeqIO.parse(filename, \"fasta\")\n",
    "    \n",
    "    for record in records:\n",
    "        disprotIds.append(record.id)\n",
    "\n",
    "    shuffle(disprotIds, seed)\n",
    "\n",
    "    train, test = splitData(disprotIds)\n",
    "\n",
    "    set1 = set(test)\n",
    "    set2 = set(train)\n",
    "\n",
    "    fastaTest = []\n",
    "    fastaTrain = []\n",
    "\n",
    "    i = 0\n",
    "    records = SeqIO.parse(filename, \"fasta\")\n",
    "    for record in records:\n",
    "        i += 1\n",
    "        if record.id in test:\n",
    "            fastaTest.append(record)\n",
    "        else:\n",
    "            fastaTrain.append(record)\n",
    "    print(i)\n",
    "    print(len(fastaTest))\n",
    "    print(len(fastaTrain))\n",
    "    #print(filename.replace(\"fastaNoDuplicates/aaFastaFiles\", \"testSetNoDuplicates\"), filename.replace(\"fastaNoDuplicates/aaFastaFiles\", \"trainSetNoDuplicates\"), fastaTest, fastaTrain)\n",
    "    dumpToFasta(filename.replace(\"fastaNoDuplicates/aaFastaFiles\", \"testSetNoDuplicates\"), filename.replace(\"fastaNoDuplicates/aaFastaFiles\", \"trainSetNoDuplicates\"), fastaTest, fastaTrain)"
   ]
  },
  {
   "cell_type": "code",
   "execution_count": 10,
   "id": "fc073707-e4e1-4cf0-b382-dd22c6219830",
   "metadata": {},
   "outputs": [
    {
     "name": "stdout",
     "output_type": "stream",
     "text": [
      "Velicina trening skupa je:  14\n",
      "20\n",
      "6\n",
      "14\n",
      "Velicina trening skupa je:  53\n",
      "77\n",
      "24\n",
      "53\n",
      "Velicina trening skupa je:  228\n",
      "327\n",
      "99\n",
      "228\n",
      "Velicina trening skupa je:  27\n",
      "39\n",
      "12\n",
      "27\n",
      "Velicina trening skupa je:  4897\n",
      "6997\n",
      "2100\n",
      "4897\n",
      "Velicina trening skupa je:  2\n",
      "4\n",
      "2\n",
      "2\n",
      "Velicina trening skupa je:  14\n",
      "20\n",
      "6\n",
      "14\n",
      "Velicina trening skupa je:  334\n",
      "478\n",
      "144\n",
      "334\n",
      "Velicina trening skupa je:  905\n",
      "1294\n",
      "389\n",
      "905\n",
      "Velicina trening skupa je:  321\n",
      "459\n",
      "138\n",
      "321\n",
      "Velicina trening skupa je:  11\n",
      "16\n",
      "5\n",
      "11\n",
      "Velicina trening skupa je:  218\n",
      "312\n",
      "94\n",
      "218\n",
      "Velicina trening skupa je:  238\n",
      "341\n",
      "103\n",
      "238\n",
      "Velicina trening skupa je:  2\n",
      "4\n",
      "2\n",
      "2\n",
      "Velicina trening skupa je:  20\n",
      "29\n",
      "9\n",
      "20\n",
      "Velicina trening skupa je:  1541\n",
      "2202\n",
      "661\n",
      "1541\n",
      "Velicina trening skupa je:  570\n",
      "815\n",
      "245\n",
      "570\n",
      "Velicina trening skupa je:  124\n",
      "178\n",
      "54\n",
      "124\n",
      "Velicina trening skupa je:  455\n",
      "651\n",
      "196\n",
      "455\n"
     ]
    }
   ],
   "source": [
    "seed = 42\n",
    "\n",
    "folder = \"../fastaNoDuplicates/aaFastaFiles/\"\n",
    "for file in os.listdir(folder):\n",
    "    if file.startswith(\".\"):\n",
    "        continue\n",
    "\n",
    "    path = folder + file\n",
    "    openFile(path, seed)"
   ]
  },
  {
   "cell_type": "code",
   "execution_count": null,
   "id": "8cc67d54-7eab-48f1-899e-bf8863814837",
   "metadata": {},
   "outputs": [],
   "source": []
  }
 ],
 "metadata": {
  "kernelspec": {
   "display_name": "Python 3 (ipykernel)",
   "language": "python",
   "name": "python3"
  },
  "language_info": {
   "codemirror_mode": {
    "name": "ipython",
    "version": 3
   },
   "file_extension": ".py",
   "mimetype": "text/x-python",
   "name": "python",
   "nbconvert_exporter": "python",
   "pygments_lexer": "ipython3",
   "version": "3.10.12"
  }
 },
 "nbformat": 4,
 "nbformat_minor": 5
}
