{
 "cells": [
  {
   "cell_type": "code",
   "execution_count": 24,
   "id": "88ebdd57-209e-4f72-a582-be3d1d2614f5",
   "metadata": {},
   "outputs": [],
   "source": [
    "import os\n",
    "import csv\n",
    "\n",
    "from Bio.Seq import Seq\n",
    "from Bio.SeqRecord import SeqRecord\n",
    "from Bio import SeqIO"
   ]
  },
  {
   "cell_type": "code",
   "execution_count": 25,
   "id": "ac113442-55a2-4847-9269-649f55afe3ae",
   "metadata": {},
   "outputs": [],
   "source": [
    "def createFolder(folder):\n",
    "    if not os.path.exists(folder):\n",
    "        os.makedirs(folder)\n",
    "        print(f\"Folder '{folder}' created.\")\n",
    "    else:\n",
    "        print(f\"Folder '{folder}' already exists.\")"
   ]
  },
  {
   "cell_type": "code",
   "execution_count": 26,
   "id": "62c7ebfa-5ed3-4256-b92a-74da25daf5c2",
   "metadata": {},
   "outputs": [
    {
     "name": "stdout",
     "output_type": "stream",
     "text": [
      "Folder '../csvFiles' created.\n"
     ]
    }
   ],
   "source": [
    "createFolder(\"../csvFiles\")"
   ]
  },
  {
   "cell_type": "code",
   "execution_count": 27,
   "id": "cc738a0a-c977-4c8b-a8d6-0d7e8938956b",
   "metadata": {},
   "outputs": [
    {
     "name": "stdout",
     "output_type": "stream",
     "text": [
      "Folder '../aaFastaFiles' created.\n"
     ]
    }
   ],
   "source": [
    "createFolder(\"../aaFastaFiles\")"
   ]
  },
  {
   "cell_type": "code",
   "execution_count": 28,
   "id": "9e86b8ed-dcea-4361-afd0-4fd959f9b8b1",
   "metadata": {},
   "outputs": [
    {
     "name": "stdout",
     "output_type": "stream",
     "text": [
      "Folder '../nuclFastaFiles' created.\n"
     ]
    }
   ],
   "source": [
    "createFolder(\"../nuclFastaFiles\")"
   ]
  },
  {
   "cell_type": "code",
   "execution_count": 29,
   "id": "ab49567f-ffec-4881-a256-ea4f62d22dc7",
   "metadata": {},
   "outputs": [],
   "source": [
    "def processFeatureSource(feature, record, infoFile):\n",
    "    id = record.id\n",
    "    organism = feature.qualifiers.get(\"organism\", [\"N/A\"])[0]\n",
    "    strain = feature.qualifiers.get(\"strain\", [\"N/A\"])[0]\n",
    "    molprod = feature.qualifiers.get(\"mol_prod\", [\"N/A\"])[0]\n",
    "    dbXref = feature.qualifiers.get(\"db_xref\", [\"N/A\"])[0]\n",
    "    location = feature.qualifiers.get(\"geo_loc_name\", [\"N/A\"])[0]\n",
    "    data = [[id, organism, strain, molprod, dbXref, location]]\n",
    "    with open(infoFile, 'a', newline='') as csvfile:\n",
    "        writer = csv.writer(csvfile)\n",
    "        writer.writerows(data)"
   ]
  },
  {
   "cell_type": "code",
   "execution_count": 30,
   "id": "2f56239d-ed2c-4c1d-8e3e-461d63f76d33",
   "metadata": {},
   "outputs": [],
   "source": [
    "def processCSVdatasets(filename, collectionDates):\n",
    "    with open(filename, mode='r') as file:\n",
    "        acceptedValues = [\"peplomer protein\", \"s\", \"s1\", \"glycoprotein s\"]\n",
    "        csvReader = csv.DictReader(file)\n",
    "        for row in csvReader:\n",
    "            type = row[\"Protein\"].lower()\n",
    "            if type.startswith(\"spike\") or type.startswith(\"e2\") or type.startswith(\"surface\") or type.startswith(\"s \") or type  in acceptedValues:\n",
    "                if row[\"Nucleotide\"] == \"\":\n",
    "                    data = [[row[\"Accession\"], row[\"Collection_Date\"]]]\n",
    "                else:\n",
    "                    data = [[row[\"Nucleotide\"], row[\"Collection_Date\"]]]\n",
    "                with open(collectionDates, 'a', newline='') as csvfile:\n",
    "                    writer = csv.writer(csvfile)\n",
    "                    writer.writerows(data)"
   ]
  },
  {
   "cell_type": "code",
   "execution_count": 31,
   "id": "93ad3c4e-5fb0-48f9-b61a-4a5efa9e2ae7",
   "metadata": {},
   "outputs": [],
   "source": [
    "def writeToAAfasta(feature, record, aaFasta):\n",
    "    records = [\n",
    "            SeqRecord(Seq(feature.qualifiers.get(\"translation\", [\"N/A\"])[0]), record.id, description=\"\"),\n",
    "    ]\n",
    "                \n",
    "    with open(aaFasta, \"a\") as f:\n",
    "        SeqIO.write(records, f, \"fasta\")"
   ]
  },
  {
   "cell_type": "code",
   "execution_count": 32,
   "id": "1306fbf3-8db8-4461-ae60-1cd33605e2cf",
   "metadata": {},
   "outputs": [],
   "source": [
    "def writeToNuclFasta(feature, record, nuclFasta):\n",
    "    records = [\n",
    "            SeqRecord(Seq(record.seq[feature.location.start:feature.location.end]), record.id, description=\"\"),\n",
    "    ]\n",
    "    with open(nuclFasta, \"a\") as f:\n",
    "        SeqIO.write(records, f, \"fasta\")"
   ]
  },
  {
   "cell_type": "code",
   "execution_count": 33,
   "id": "14833bfa-86d3-40fc-afad-04862e94414b",
   "metadata": {},
   "outputs": [],
   "source": [
    "def processGBformat(sequence, aaFasta, nuclFasta, infoFile):\n",
    "    record = SeqIO.read(sequence, \"genbank\")\n",
    "    #ind = 0\n",
    "    acceptedValues = [\"s\", \"s1\", \"glycoprotein s\"]\n",
    "    for feature in record.features:\n",
    "        if feature.type == \"source\":\n",
    "            processFeatureSource(feature, record, infoFile)\n",
    "        if feature.type == \"CDS\":\n",
    "            gene = feature.qualifiers.get(\"gene\", [\"N/A\"])[0]\n",
    "            product = feature.qualifiers.get(\"product\", [\"N/A\"])[0]\n",
    "            prod = product.lower()\n",
    "            gene = gene.lower()\n",
    "            #print(gene)\n",
    "            if prod.find(\"spike\") != -1 or prod.startswith(\"e2\") or prod.startswith(\"surface\") or prod.startswith(\"s \") or prod.find(\"peplomer\") != -1 or prod in acceptedValues or gene == \"spike\" or gene == \"s\":\n",
    "                writeToAAfasta(feature, record, aaFasta)\n",
    "                writeToNuclFasta(feature, record, nuclFasta)\n",
    "                break\n",
    "\n",
    "                \n",
    "    #if ind != 1:\n",
    "    #    print(sequence)"
   ]
  },
  {
   "cell_type": "code",
   "execution_count": 34,
   "id": "308bfc5b-6caa-45ad-b8d9-576a6ff7dd23",
   "metadata": {},
   "outputs": [],
   "source": [
    "def processGPformat(sequence, aaFasta, infoFile):\n",
    "    record = SeqIO.read(sequence, \"genbank\")\n",
    "    \n",
    "    for feature in record.features:\n",
    "        if feature.type == \"source\":\n",
    "            processFeatureSource(feature, record, infoFile)\n",
    "        if feature.type == \"Protein\":\n",
    "            writeToNuclFasta(feature, record, aaFasta)\n",
    "            break"
   ]
  },
  {
   "cell_type": "code",
   "execution_count": 35,
   "id": "706ee199-1070-42ca-9317-b47e064e8ca2",
   "metadata": {},
   "outputs": [],
   "source": [
    "def makeSourceCSVfile(filename):\n",
    "    headers = [\"ID\", \"Organism\", \"Strain\", \"Molecule product\", \"DB xref\", \"location\"]\n",
    "    with open(filename, mode=\"a\", newline=\"\") as file:\n",
    "        writer = csv.writer(file)\n",
    "        writer.writerow(headers)"
   ]
  },
  {
   "cell_type": "code",
   "execution_count": 36,
   "id": "d09e324b-2016-4f31-b038-69bc108d442a",
   "metadata": {},
   "outputs": [],
   "source": [
    "def makeCollectionDateCSVfile(filename):\n",
    "    headers = [\"ID\", \"Collection date\"]\n",
    "    with open(filename, mode=\"a\", newline=\"\") as file:\n",
    "        writer = csv.writer(file)\n",
    "        writer.writerow(headers)"
   ]
  },
  {
   "cell_type": "code",
   "execution_count": 37,
   "id": "6a46c87f-cf2e-462f-8259-9e7c4f3264fe",
   "metadata": {},
   "outputs": [
    {
     "name": "stdout",
     "output_type": "stream",
     "text": [
      "../processedDatasets/IBV\n",
      "../csvFiles/IBVSource.csv\n",
      "../processedDatasets/feline-CoV\n",
      "../csvFiles/feline-CoVSource.csv\n",
      "../processedDatasets/HCoV-229E\n",
      "../csvFiles/HCoV-229ESource.csv\n",
      "../processedDatasets/dolphin-CoV\n",
      "../csvFiles/dolphin-CoVSource.csv\n",
      "../processedDatasets/bovine-CoV\n",
      "../csvFiles/bovine-CoVSource.csv\n",
      "../processedDatasets/hedgehog-CoV\n",
      "../csvFiles/hedgehog-CoVSource.csv\n",
      "../processedDatasets/HCoV-OC43\n",
      "../csvFiles/HCoV-OC43Source.csv\n",
      "../processedDatasets/SARS-CoV\n",
      "../csvFiles/SARS-CoVSource.csv\n",
      "../processedDatasets/ferret-CoV\n",
      "../csvFiles/ferret-CoVSource.csv\n",
      "../processedDatasets/MERS-CoV\n",
      "../csvFiles/MERS-CoVSource.csv\n",
      "../processedDatasets/porcine-CoV\n",
      "../csvFiles/porcine-CoVSource.csv\n",
      "../processedDatasets/rabbit-CoV\n",
      "../csvFiles/rabbit-CoVSource.csv\n",
      "../processedDatasets/turkey-CoV\n",
      "../csvFiles/turkey-CoVSource.csv\n",
      "../processedDatasets/HCoV-HKU1\n",
      "../csvFiles/HCoV-HKU1Source.csv\n",
      "../processedDatasets/SARS-CoV2\n",
      "../csvFiles/SARS-CoV2Source.csv\n",
      "../processedDatasets/rat-CoV\n",
      "../csvFiles/rat-CoVSource.csv\n",
      "../processedDatasets/equine-CoV\n",
      "../csvFiles/equine-CoVSource.csv\n",
      "../processedDatasets/HCoV-NL63\n",
      "../csvFiles/HCoV-NL63Source.csv\n",
      "../processedDatasets/canine-CoV\n",
      "../csvFiles/canine-CoVSource.csv\n",
      "../processedDatasets/bat-CoV\n",
      "../csvFiles/bat-CoVSource.csv\n"
     ]
    }
   ],
   "source": [
    "baseFolder = \"../processedDatasets\"\n",
    "for folder in os.listdir(baseFolder):\n",
    "    if folder.startswith(\".\"):\n",
    "        continue\n",
    "\n",
    "    newFolder = baseFolder + \"/\" + folder\n",
    "    print(newFolder)\n",
    "    \n",
    "    csvSourceFile = \"../csvFiles/\" + folder + \"Source.csv\"\n",
    "\n",
    "    aaFastaFile = newFolder.replace(\"../processedDatasets\", \"../aaFastaFiles\") + \".fasta\"\n",
    "    nuclFastaFile = newFolder.replace(\"../processedDatasets\", \"../nuclFastaFiles\") + \".fasta\"\n",
    "\n",
    "    makeSourceCSVfile(csvSourceFile)\n",
    "    print(csvSourceFile)\n",
    "    for file in os.listdir(newFolder):\n",
    "        path = newFolder + \"/\" + file\n",
    "        if file.startswith(\".\"):\n",
    "            continue\n",
    "        elif file.endswith(\".gb\"):\n",
    "            processGBformat(path, aaFastaFile, nuclFastaFile, csvSourceFile)\n",
    "        elif file.endswith(\".gp\"):\n",
    "            processGPformat(path, aaFastaFile, csvSourceFile)"
   ]
  },
  {
   "cell_type": "code",
   "execution_count": 38,
   "id": "4c38df1e-099c-44ef-8f31-99f33cad4e7a",
   "metadata": {},
   "outputs": [
    {
     "name": "stdout",
     "output_type": "stream",
     "text": [
      "../csvFiles/IBVCollectionDate.csv\n",
      "../csvFiles/feline-CoVCollectionDate.csv\n",
      "../csvFiles/HCoV-229ECollectionDate.csv\n",
      "../csvFiles/dolphin-CoVCollectionDate.csv\n",
      "../csvFiles/bovine-CoVCollectionDate.csv\n",
      "../csvFiles/hedgehog-CoVCollectionDate.csv\n",
      "../csvFiles/HCoV-OC43CollectionDate.csv\n",
      "../csvFiles/SARS-CoVCollectionDate.csv\n",
      "../csvFiles/ferret-CoVCollectionDate.csv\n",
      "../csvFiles/MERS-CoVCollectionDate.csv\n",
      "../csvFiles/porcine-CoVCollectionDate.csv\n",
      "../csvFiles/rabbit-CoVCollectionDate.csv\n",
      "../csvFiles/turkey-CoVCollectionDate.csv\n",
      "../csvFiles/HCoV-HKU1CollectionDate.csv\n",
      "../csvFiles/rat-CoVCollectionDate.csv\n",
      "../csvFiles/equine-CoVCollectionDate.csv\n",
      "../csvFiles/HCoV-NL63CollectionDate.csv\n",
      "../csvFiles/canine-CoVCollectionDate.csv\n",
      "../csvFiles/bat-CoVCollectionDate.csv\n"
     ]
    }
   ],
   "source": [
    "baseFolder = \"../datasets\"\n",
    "notOk = [\"SARS-CoV2\"]\n",
    "\n",
    "for folder in os.listdir(baseFolder):\n",
    "    if folder.startswith(\".\") or folder in notOk:\n",
    "        continue\n",
    "        \n",
    "    newFolder = baseFolder + \"/\" + folder\n",
    "    csvCollectionDateFile = \"../csvFiles/\" + folder + \"CollectionDate.csv\"\n",
    "\n",
    "    makeCollectionDateCSVfile(csvCollectionDateFile)\n",
    "    print(csvCollectionDateFile)\n",
    "    \n",
    "    for file in os.listdir(newFolder):\n",
    "        path = newFolder + \"/\" + file\n",
    "        if file.startswith(\".\"):\n",
    "            continue\n",
    "        processCSVdatasets(path, csvCollectionDateFile)"
   ]
  },
  {
   "cell_type": "code",
   "execution_count": null,
   "id": "726479d9-8cff-4591-8d14-bc097dae5c68",
   "metadata": {},
   "outputs": [],
   "source": []
  },
  {
   "cell_type": "code",
   "execution_count": null,
   "id": "231dab72-bf97-49ea-80a3-dde5bee52345",
   "metadata": {},
   "outputs": [],
   "source": []
  }
 ],
 "metadata": {
  "kernelspec": {
   "display_name": "Python 3 (ipykernel)",
   "language": "python",
   "name": "python3"
  },
  "language_info": {
   "codemirror_mode": {
    "name": "ipython",
    "version": 3
   },
   "file_extension": ".py",
   "mimetype": "text/x-python",
   "name": "python",
   "nbconvert_exporter": "python",
   "pygments_lexer": "ipython3",
   "version": "3.10.12"
  }
 },
 "nbformat": 4,
 "nbformat_minor": 5
}
