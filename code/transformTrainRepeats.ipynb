{
 "cells": [
  {
   "cell_type": "code",
   "execution_count": 1,
   "id": "b5c03a73-afdd-42b5-9697-768dade63507",
   "metadata": {},
   "outputs": [],
   "source": [
    "import os\n",
    "import csv"
   ]
  },
  {
   "cell_type": "code",
   "execution_count": 2,
   "id": "703ad0c7-fc7c-4140-add9-d86a561ec00d",
   "metadata": {},
   "outputs": [],
   "source": [
    "def makeTypeRepeatfile(filename):\n",
    "    headers = [\"covidType\", \"repeats\"]\n",
    "    with open(filename, mode=\"a\", newline=\"\") as file:\n",
    "        writer = csv.writer(file)\n",
    "        writer.writerow(headers)"
   ]
  },
  {
   "cell_type": "code",
   "execution_count": 3,
   "id": "4c7cb654-f0b4-454d-9511-793bd8936b24",
   "metadata": {},
   "outputs": [],
   "source": [
    "def extractDirectRepeats(inPath, outPath = \"\"):\n",
    "    with open(inPath, \"r\") as fIn, open(outPath, \"a\") as fOut:\n",
    "        for line in fIn:\n",
    "            data = [[inPath.split(\"/\")[3].split(\".\")[0], line.split(\",\")[6]]]\n",
    "            writer = csv.writer(fOut)\n",
    "            writer.writerows(data)"
   ]
  },
  {
   "cell_type": "code",
   "execution_count": 4,
   "id": "4e7b8ada-9d26-4988-b3af-75e4abfd8770",
   "metadata": {},
   "outputs": [],
   "source": [
    "def createFolder(folder):\n",
    "    if not os.path.exists(folder):\n",
    "        os.makedirs(folder)\n",
    "        print(f\"Folder '{folder}' created.\")\n",
    "    else:\n",
    "        print(f\"Folder '{folder}' already exists.\")"
   ]
  },
  {
   "cell_type": "code",
   "execution_count": 5,
   "id": "da1f377d-47f1-48ec-b08f-bf4816b06434",
   "metadata": {},
   "outputs": [
    {
     "name": "stdout",
     "output_type": "stream",
     "text": [
      "Folder '../proba2' created.\n",
      "Folder '../proba2/direct' created.\n",
      "Folder '../proba2/indirect' created.\n"
     ]
    }
   ],
   "source": [
    "createFolder(\"../proba2\")\n",
    "createFolder(\"../proba2/direct\")\n",
    "createFolder(\"../proba2/indirect\")"
   ]
  },
  {
   "cell_type": "code",
   "execution_count": 6,
   "id": "27674b45-40d9-42b4-af20-822238b7437a",
   "metadata": {},
   "outputs": [],
   "source": [
    "baseFolder = \"../trainSetRepeats2/direct\"\n",
    "for file in os.listdir(baseFolder):\n",
    "    path = baseFolder + \"/\" + file\n",
    "        #print(path)\n",
    "        \n",
    "    if file.startswith(\".\"):\n",
    "        continue\n",
    "\n",
    "    if file.endswith(\".fasta.load\"):\n",
    "        out = path.replace(\"trainSetRepeats\", \"proba\").replace(\".fasta.load\", \".csv\")\n",
    "        makeTypeRepeatfile(out)\n",
    "        extractDirectRepeats(path, out)"
   ]
  },
  {
   "cell_type": "code",
   "execution_count": 7,
   "id": "49f1860e-1690-450e-a1a5-626d617b13a0",
   "metadata": {},
   "outputs": [],
   "source": [
    "baseFolder = \"../trainSetRepeats2/indirect\"\n",
    "for file in os.listdir(baseFolder):\n",
    "    path = baseFolder + \"/\" + file\n",
    "        #print(path)\n",
    "        \n",
    "    if file.startswith(\".\"):\n",
    "        continue\n",
    "\n",
    "    if file.endswith(\".fasta.load\"):\n",
    "        out = path.replace(\"trainSetRepeats\", \"proba\").replace(\".fasta.load\", \".csv\")\n",
    "        makeTypeRepeatfile(out)\n",
    "        extractDirectRepeats(path, out)"
   ]
  },
  {
   "cell_type": "code",
   "execution_count": null,
   "id": "38d90d92-d724-4aea-bd7d-df2c9aaf162c",
   "metadata": {},
   "outputs": [],
   "source": []
  }
 ],
 "metadata": {
  "kernelspec": {
   "display_name": "Python 3 (ipykernel)",
   "language": "python",
   "name": "python3"
  },
  "language_info": {
   "codemirror_mode": {
    "name": "ipython",
    "version": 3
   },
   "file_extension": ".py",
   "mimetype": "text/x-python",
   "name": "python",
   "nbconvert_exporter": "python",
   "pygments_lexer": "ipython3",
   "version": "3.10.12"
  }
 },
 "nbformat": 4,
 "nbformat_minor": 5
}
