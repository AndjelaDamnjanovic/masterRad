{
 "cells": [
  {
   "cell_type": "code",
   "execution_count": 1,
   "id": "5ceeff05-38e9-4e57-a97d-38636a22a8e4",
   "metadata": {},
   "outputs": [],
   "source": [
    "import os\n",
    "import csv"
   ]
  },
  {
   "cell_type": "code",
   "execution_count": 2,
   "id": "00b8a2d2-03ce-46ab-86f0-71427923e3b8",
   "metadata": {},
   "outputs": [],
   "source": [
    "def makeTypeRepeatfile(filename):\n",
    "    headers = [\"covidType\", \"repeats\"]\n",
    "    with open(filename, mode=\"a\", newline=\"\") as file:\n",
    "        writer = csv.writer(file)\n",
    "        writer.writerow(headers)"
   ]
  },
  {
   "cell_type": "code",
   "execution_count": 3,
   "id": "e48d448f-5759-450f-8ffa-0c4db3b64cf8",
   "metadata": {},
   "outputs": [],
   "source": [
    "def extractDirectRepeats(inPath, outPath = \"\"):\n",
    "    with open(inPath, \"r\") as fIn, open(outPath, \"a\") as fOut:\n",
    "        data = fIn.readlines()\n",
    "        for line in data:\n",
    "            data = [[inPath.split(\"/\")[3].split(\".\")[0], line.split(\",\")[6]]]\n",
    "            writer = csv.writer(fOut)\n",
    "            writer.writerows(data)"
   ]
  },
  {
   "cell_type": "code",
   "execution_count": 4,
   "id": "00124bcb-6f52-47df-a5ec-9a60490d0841",
   "metadata": {},
   "outputs": [],
   "source": [
    "def createFolder(folder):\n",
    "    if not os.path.exists(folder):\n",
    "        os.makedirs(folder)\n",
    "        print(f\"Folder '{folder}' created.\")\n",
    "    else:\n",
    "        print(f\"Folder '{folder}' already exists.\")"
   ]
  },
  {
   "cell_type": "code",
   "execution_count": 5,
   "id": "137b6b65-0b19-48aa-a715-5886bc20e8b5",
   "metadata": {},
   "outputs": [
    {
     "name": "stdout",
     "output_type": "stream",
     "text": [
      "Folder '../proba3' created.\n",
      "Folder '../proba3/DC' created.\n",
      "Folder '../proba3/DN' created.\n",
      "Folder '../proba3/IC' created.\n",
      "Folder '../proba3/IN' created.\n"
     ]
    }
   ],
   "source": [
    "createFolder(\"../proba3\")\n",
    "createFolder(\"../proba3/DC\")\n",
    "createFolder(\"../proba3/DN\")\n",
    "createFolder(\"../proba3/IC\")\n",
    "createFolder(\"../proba3/IN\")"
   ]
  },
  {
   "cell_type": "code",
   "execution_count": 6,
   "id": "19100039-b6cb-43a2-945d-68cf9a3e3c8f",
   "metadata": {},
   "outputs": [],
   "source": [
    "baseFolder = \"../trainSetRepeatsNucl/DC/\"\n",
    "for file in os.listdir(baseFolder):\n",
    "    path = baseFolder + \"/\" + file\n",
    "        #print(path)\n",
    "        \n",
    "    if file.startswith(\".\"):\n",
    "        continue\n",
    "\n",
    "    if file.endswith(\".fasta.load\"):\n",
    "        out = path.replace(\"trainSetRepeatsNucl\", \"proba3\").replace(\".fasta.load\", \".csv\")\n",
    "        makeTypeRepeatfile(out)\n",
    "        extractDirectRepeats(path, out)"
   ]
  },
  {
   "cell_type": "code",
   "execution_count": 7,
   "id": "a92e7af3-b51d-43e3-8c86-890cf93c2722",
   "metadata": {},
   "outputs": [],
   "source": [
    "baseFolder = \"../trainSetRepeatsNucl/DN/\"\n",
    "for file in os.listdir(baseFolder):\n",
    "    path = baseFolder + \"/\" + file\n",
    "        #print(path)\n",
    "        \n",
    "    if file.startswith(\".\"):\n",
    "        continue\n",
    "\n",
    "    if file.endswith(\".fasta.load\"):\n",
    "        out = path.replace(\"trainSetRepeatsNucl\", \"proba3\").replace(\".fasta.load\", \".csv\")\n",
    "        makeTypeRepeatfile(out)\n",
    "        extractDirectRepeats(path, out)"
   ]
  },
  {
   "cell_type": "code",
   "execution_count": 8,
   "id": "dde98da4-a0c8-43ee-bc3f-328284af9787",
   "metadata": {},
   "outputs": [],
   "source": [
    "baseFolder = \"../trainSetRepeatsNucl/IC/\"\n",
    "for file in os.listdir(baseFolder):\n",
    "    path = baseFolder + \"/\" + file\n",
    "        #print(path)\n",
    "        \n",
    "    if file.startswith(\".\"):\n",
    "        continue\n",
    "\n",
    "    if file.endswith(\".fasta.load\"):\n",
    "        out = path.replace(\"trainSetRepeatsNucl\", \"proba3\").replace(\".fasta.load\", \".csv\")\n",
    "        makeTypeRepeatfile(out)\n",
    "        extractDirectRepeats(path, out)"
   ]
  },
  {
   "cell_type": "code",
   "execution_count": 9,
   "id": "8de0e245-06d2-4909-9261-89cb63db80dc",
   "metadata": {},
   "outputs": [],
   "source": [
    "baseFolder = \"../trainSetRepeatsNucl/IN/\"\n",
    "for file in os.listdir(baseFolder):\n",
    "    path = baseFolder + \"/\" + file\n",
    "        #print(path)\n",
    "        \n",
    "    if file.startswith(\".\"):\n",
    "        continue\n",
    "\n",
    "    if file.endswith(\".fasta.load\"):\n",
    "        out = path.replace(\"trainSetRepeatsNucl\", \"proba3\").replace(\".fasta.load\", \".csv\")\n",
    "        makeTypeRepeatfile(out)\n",
    "        extractDirectRepeats(path, out)"
   ]
  },
  {
   "cell_type": "code",
   "execution_count": null,
   "id": "2995c54a-5a4b-4a15-9772-d65351b2a81b",
   "metadata": {},
   "outputs": [],
   "source": []
  },
  {
   "cell_type": "code",
   "execution_count": null,
   "id": "7ccfc49b-67cc-4c02-90f5-8cff0e24a6a7",
   "metadata": {},
   "outputs": [],
   "source": []
  }
 ],
 "metadata": {
  "kernelspec": {
   "display_name": "Python 3 (ipykernel)",
   "language": "python",
   "name": "python3"
  },
  "language_info": {
   "codemirror_mode": {
    "name": "ipython",
    "version": 3
   },
   "file_extension": ".py",
   "mimetype": "text/x-python",
   "name": "python",
   "nbconvert_exporter": "python",
   "pygments_lexer": "ipython3",
   "version": "3.10.12"
  }
 },
 "nbformat": 4,
 "nbformat_minor": 5
}
