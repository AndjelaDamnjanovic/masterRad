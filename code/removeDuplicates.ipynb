{
 "cells": [
  {
   "cell_type": "code",
   "execution_count": 1,
   "id": "b01eee75-f3a7-4fa8-8109-1a24f2ce6728",
   "metadata": {},
   "outputs": [],
   "source": [
    "import os\n",
    "\n",
    "from Bio.Seq import Seq\n",
    "from Bio.SeqRecord import SeqRecord\n",
    "from Bio import SeqIO"
   ]
  },
  {
   "cell_type": "code",
   "execution_count": 2,
   "id": "3296fd8b-afec-445d-9785-60ab081d0192",
   "metadata": {},
   "outputs": [],
   "source": [
    "def createFolder(folder):\n",
    "    if not os.path.exists(folder):\n",
    "        os.makedirs(folder)\n",
    "        print(f\"Folder '{folder}' created.\")\n",
    "    else:\n",
    "        print(f\"Folder '{folder}' already exists.\")"
   ]
  },
  {
   "cell_type": "code",
   "execution_count": 3,
   "id": "6a4cef87-0cd9-4e20-b416-4632780e853a",
   "metadata": {},
   "outputs": [
    {
     "name": "stdout",
     "output_type": "stream",
     "text": [
      "Folder '../fastaNoDuplicates' created.\n"
     ]
    }
   ],
   "source": [
    "createFolder(\"../fastaNoDuplicates\")"
   ]
  },
  {
   "cell_type": "code",
   "execution_count": 4,
   "id": "657fd2c5-504b-48be-936d-189f3b1af5bf",
   "metadata": {},
   "outputs": [
    {
     "name": "stdout",
     "output_type": "stream",
     "text": [
      "Folder '../fastaNoDuplicates/aaFastaFiles' created.\n"
     ]
    }
   ],
   "source": [
    "createFolder(\"../fastaNoDuplicates/aaFastaFiles\")"
   ]
  },
  {
   "cell_type": "code",
   "execution_count": 5,
   "id": "95c8054f-44f2-4b0d-8b86-bdf096655a90",
   "metadata": {},
   "outputs": [
    {
     "name": "stdout",
     "output_type": "stream",
     "text": [
      "Folder '../fastaNoDuplicates/nuclFastaFiles' created.\n"
     ]
    }
   ],
   "source": [
    "createFolder(\"../fastaNoDuplicates/nuclFastaFiles\")"
   ]
  },
  {
   "cell_type": "code",
   "execution_count": 6,
   "id": "f8e6c0ff-509c-4ce9-aed1-30713ef14d8f",
   "metadata": {},
   "outputs": [],
   "source": [
    "def removeDuplicates(filename):\n",
    "    sequences = set([])\n",
    "    out = filename.replace(\"../\", \"../fastaNoDuplicates/\")\n",
    "    with open(filename, \"r\") as inFile, open(out, \"a\") as outFile:\n",
    "        for record in SeqIO.parse(inFile, \"fasta\"):\n",
    "            if record.seq not in sequences:\n",
    "                sequences.add(record.seq)\n",
    "                records = [\n",
    "                    SeqRecord(Seq(record.seq), record.id, description=\"\"),\n",
    "                ]\n",
    "                SeqIO.write(records, outFile, \"fasta\")"
   ]
  },
  {
   "cell_type": "code",
   "execution_count": 7,
   "id": "c2813d2b-2464-4d70-a3fe-dccd28ee10e7",
   "metadata": {},
   "outputs": [],
   "source": [
    "baseFolders= [\"../aaFastaFiles/\", \"../nuclFastaFiles/\"]\n",
    "for folder in baseFolders:\n",
    "    for file in os.listdir(folder):\n",
    "        path = folder + \"/\" + file\n",
    "        removeDuplicates(path)"
   ]
  },
  {
   "cell_type": "code",
   "execution_count": null,
   "id": "be99cfdb-bd89-4782-89b5-236f5dfd5dbb",
   "metadata": {},
   "outputs": [],
   "source": []
  }
 ],
 "metadata": {
  "kernelspec": {
   "display_name": "Python 3 (ipykernel)",
   "language": "python",
   "name": "python3"
  },
  "language_info": {
   "codemirror_mode": {
    "name": "ipython",
    "version": 3
   },
   "file_extension": ".py",
   "mimetype": "text/x-python",
   "name": "python",
   "nbconvert_exporter": "python",
   "pygments_lexer": "ipython3",
   "version": "3.10.12"
  }
 },
 "nbformat": 4,
 "nbformat_minor": 5
}
